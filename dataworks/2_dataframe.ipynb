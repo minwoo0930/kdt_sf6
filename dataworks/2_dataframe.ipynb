{
 "cells": [
  {
   "cell_type": "markdown",
   "id": "a1782795-0d0a-4c81-89ce-bf795c2e3f73",
   "metadata": {},
   "source": [
    "##### pandas - DataFrame 클래스 : 행(row)과 열(column)로 이루어진 2차원 리스트이다."
   ]
  },
  {
   "cell_type": "code",
   "execution_count": 6,
   "id": "39c31f5a-b185-49db-8f02-4a7186161fd9",
   "metadata": {
    "scrolled": true
   },
   "outputs": [
    {
     "name": "stdout",
     "output_type": "stream",
     "text": [
      "       영희   철수\n",
      "2018  143  165\n",
      "2019  150  172\n",
      "2020  157  175\n",
      "2021  160  180\n",
      "       영희   철수\n",
      "2018  143  165\n",
      "       영희   철수\n",
      "2020  157  175\n",
      "2021  160  180\n",
      "175\n",
      "150\n"
     ]
    }
   ],
   "source": [
    "import pandas as pd \n",
    "# 1. 시리즈 결합해서 데이터프레임 만들기 \n",
    "index = [\"2018\", \"2019\", \"2020\", \"2021\"]\n",
    "\n",
    "younghee = pd.Series([143,150,157,160], index = index)\n",
    "cheolsu = pd.Series([165,172,175,180], index = index)\n",
    "\n",
    "growth = pd.DataFrame({\n",
    "    '영희': younghee, \n",
    "    '철수': cheolsu    \n",
    "})\n",
    "print(growth)\n",
    "# print(growth.columns) #칼럼\n",
    "# print(growth.values)  #값\n",
    "\n",
    "# 열 선택 + Series 타입 출력, 1차원 \n",
    "# print(growth['철수'])\n",
    "\n",
    "# 열이름 출력 + DataFrame 타입 출력, 2차원\n",
    "#print(growth[['철수']])\n",
    "# print(growth.loc['2020'])\n",
    "# print(growth.iloc[2])\n",
    "\n",
    "# 변수.loc[변수['']==DATA, :] -> 데이터를 입력해서 행 전체를 출력하는 코드 \n",
    "print(growth.loc[growth['영희']==143, :])\n",
    "# 다중 행 선택 \n",
    "print(growth.loc[['2020','2021']])\n",
    "\n",
    "# 특정 요소 1개 출력 \n",
    "# Loc[행(문자),열(문자)], iloc[행(숫자),열(숫자)]\n",
    "print(growth.loc['2020','철수'])\n",
    "print(growth.iloc[1,0])"
   ]
  },
  {
   "cell_type": "code",
   "execution_count": 13,
   "id": "332b3dae-377c-4159-b6aa-e0083c447bc1",
   "metadata": {},
   "outputs": [
    {
     "name": "stdout",
     "output_type": "stream",
     "text": [
      "       영희   철수   시현\n",
      "2018  143  165  155\n",
      "2019  150  172  160\n",
      "2020  157  175  165\n",
      "2021  160  180  170\n",
      "       영희   철수   시현\n",
      "2018  143  165  155\n",
      "2019  150  172  160\n",
      "2020  157  175  165\n",
      "2021  160  180  170\n",
      "2022  162  181  172\n",
      "       영희   철수   시현\n",
      "2018  143  165  155\n",
      "2019  150  172  160\n",
      "2021  160  180  170\n",
      "2022  162  181  172\n",
      "       영희   시현\n",
      "2018  143  155\n",
      "2019  150  160\n",
      "2020  157  165\n",
      "2021  160  170\n",
      "2022  162  172\n"
     ]
    }
   ],
   "source": [
    "# 일반적인 데이터프레임 만들기 \n",
    "index = [\"2018\", \"2019\", \"2020\", \"2021\"]\n",
    "\n",
    "data = {\n",
    "    '영희': [143,150,157,160],\n",
    "    '철수': [165,172,175,180]\n",
    "}\n",
    "growth = pd.DataFrame(data, index=index)\n",
    "\n",
    "# 열 추가 - 시현\n",
    "growth['시현'] =[155,160,165,170]\n",
    "print(growth)\n",
    "\n",
    "growth.loc[\"2022\"] = [162, 181, 172]\n",
    "print(growth)\n",
    "\n",
    "\n",
    "# 행 삭제 - 2020년 \n",
    "# 복사 - 원본 유지(깊은 복사 - 원본과 별도로 삭제, 수정) - copy()\n",
    "growth2 = growth.copy()\n",
    "growth2 = growth2.drop('2020', axis =0) #행 삭제 (axis = 0 생략 가능)\n",
    "print(growth2)\n",
    "\n",
    "# 열 삭제 = '철수' 삭제 \n",
    "growth3 = growth.copy()\n",
    "growth3 = growth3.drop('철수', axis =1) #열 삭제 \n",
    "print(growth3)"
   ]
  },
  {
   "cell_type": "code",
   "execution_count": 8,
   "id": "c03a6f78-9e47-4a06-9478-7be75738e253",
   "metadata": {},
   "outputs": [
    {
     "data": {
      "text/html": [
       "<div>\n",
       "<style scoped>\n",
       "    .dataframe tbody tr th:only-of-type {\n",
       "        vertical-align: middle;\n",
       "    }\n",
       "\n",
       "    .dataframe tbody tr th {\n",
       "        vertical-align: top;\n",
       "    }\n",
       "\n",
       "    .dataframe thead th {\n",
       "        text-align: right;\n",
       "    }\n",
       "</style>\n",
       "<table border=\"1\" class=\"dataframe\">\n",
       "  <thead>\n",
       "    <tr style=\"text-align: right;\">\n",
       "      <th></th>\n",
       "      <th>국어</th>\n",
       "      <th>수학</th>\n",
       "      <th>영어</th>\n",
       "    </tr>\n",
       "  </thead>\n",
       "  <tbody>\n",
       "    <tr>\n",
       "      <th>재천</th>\n",
       "      <td>90</td>\n",
       "      <td>80</td>\n",
       "      <td>85</td>\n",
       "    </tr>\n",
       "    <tr>\n",
       "      <th>선영</th>\n",
       "      <td>80</td>\n",
       "      <td>75</td>\n",
       "      <td>95</td>\n",
       "    </tr>\n",
       "    <tr>\n",
       "      <th>일성</th>\n",
       "      <td>70</td>\n",
       "      <td>95</td>\n",
       "      <td>100</td>\n",
       "    </tr>\n",
       "  </tbody>\n",
       "</table>\n",
       "</div>"
      ],
      "text/plain": [
       "    국어  수학   영어\n",
       "재천  90  80   85\n",
       "선영  80  75   95\n",
       "일성  70  95  100"
      ]
     },
     "execution_count": 8,
     "metadata": {},
     "output_type": "execute_result"
    }
   ],
   "source": [
    "import pandas as pd \n",
    "# 1. 시리즈 결합해서 데이터프레임 만들기 \n",
    "index = [\"재천\", \"선영\", \"일성\"]\n",
    "\n",
    "korean = pd.Series([90,80,70], index = index)\n",
    "math = pd.Series([80,75,95], index = index)\n",
    "english = pd.Series([85,95,100], index = index)\n",
    "\n",
    "grade = pd.DataFrame({\n",
    "    '국어': korean, \n",
    "    '수학': math,\n",
    "    '영어': english,\n",
    "})\n",
    "\n",
    "grade"
   ]
  },
  {
   "cell_type": "code",
   "execution_count": 30,
   "id": "ab99467f-75f0-464d-ac04-65893a0895b2",
   "metadata": {},
   "outputs": [
    {
     "name": "stdout",
     "output_type": "stream",
     "text": [
      "       영희   철수\n",
      "2018  143  165\n",
      "2019  150  172\n",
      "2020  157  175\n",
      "2021  160  180\n"
     ]
    }
   ],
   "source": [
    "# csv 파일 만들기 \n",
    "index=[\"2018\",\"2019\",\"2020\",\"2021\"]\n",
    "\n",
    "data = {\n",
    "    '영희': [143,150,157,160],\n",
    "    '철수': [165,172,175,180]\n",
    "}\n",
    "\n",
    "growth = pd.DataFrame(data, index=index)\n",
    "growth.to_csv('./datas/growth.csv')\n",
    "\n",
    "# csv 파일 읽기 - to_read_csv(경로)\n",
    "growth = pd.read_csv('./datas/growth.csv', index_col=0)\n",
    "print(growth)\n"
   ]
  },
  {
   "cell_type": "code",
   "execution_count": 2,
   "id": "d01c9831-d67d-4bc3-98bd-a069b7b433ae",
   "metadata": {},
   "outputs": [
    {
     "data": {
      "text/html": [
       "<div>\n",
       "<style scoped>\n",
       "    .dataframe tbody tr th:only-of-type {\n",
       "        vertical-align: middle;\n",
       "    }\n",
       "\n",
       "    .dataframe tbody tr th {\n",
       "        vertical-align: top;\n",
       "    }\n",
       "\n",
       "    .dataframe thead th {\n",
       "        text-align: right;\n",
       "    }\n",
       "</style>\n",
       "<table border=\"1\" class=\"dataframe\">\n",
       "  <thead>\n",
       "    <tr style=\"text-align: right;\">\n",
       "      <th></th>\n",
       "      <th>영희</th>\n",
       "      <th>철수</th>\n",
       "    </tr>\n",
       "  </thead>\n",
       "  <tbody>\n",
       "    <tr>\n",
       "      <th>2018</th>\n",
       "      <td>143</td>\n",
       "      <td>165</td>\n",
       "    </tr>\n",
       "    <tr>\n",
       "      <th>2019</th>\n",
       "      <td>150</td>\n",
       "      <td>172</td>\n",
       "    </tr>\n",
       "    <tr>\n",
       "      <th>2020</th>\n",
       "      <td>157</td>\n",
       "      <td>175</td>\n",
       "    </tr>\n",
       "    <tr>\n",
       "      <th>2021</th>\n",
       "      <td>160</td>\n",
       "      <td>180</td>\n",
       "    </tr>\n",
       "  </tbody>\n",
       "</table>\n",
       "</div>"
      ],
      "text/plain": [
       "       영희   철수\n",
       "2018  143  165\n",
       "2019  150  172\n",
       "2020  157  175\n",
       "2021  160  180"
      ]
     },
     "execution_count": 2,
     "metadata": {},
     "output_type": "execute_result"
    }
   ],
   "source": [
    "# 2차원 리스트 데이터로 프레임 만들기 \n",
    "\n",
    "import pandas as pd \n",
    "\n",
    "data = [[143, 165], [150,172], [157,175], [160,180]]\n",
    "index = [\"2018\", \"2019\", \"2020\", \"2021\"]\n",
    "\n",
    "growth = pd.DataFrame(data, columns = ['영희','철수'], index = index)\n",
    "growth"
   ]
  },
  {
   "cell_type": "code",
   "execution_count": 15,
   "id": "18d7cb8d-cc5c-4829-be5a-5edf18e69cd1",
   "metadata": {},
   "outputs": [
    {
     "name": "stdout",
     "output_type": "stream",
     "text": [
      "[1, 10, 3, 4] [1, 10, 3, 4]\n",
      "[1, 2, 3, 4] [1, 10, 3, 4]\n"
     ]
    }
   ],
   "source": [
    "# 얕은 복사와 깊은 복사 \n",
    "\n",
    "\n",
    "\n",
    "# 얕은 복사 - 복사본을 수정하면 원본도 수정된다 # 얕은 복사 \n",
    "a = [1,2,3,4]\n",
    "a\n",
    "b = a # a리스트에 b 저장함 \n",
    "b\n",
    "b[1] = 10 \n",
    "b\n",
    "print(a,b)\n",
    "\n",
    "# 깊은 복사 - 복사본을 수정해도 원본은 유지된다 . copy()# 깊은 복사 \n",
    "c = [1,2,3,4,]\n",
    "c\n",
    "d = c.copy()\n",
    "d\n",
    "d[1] = 10 \n",
    "print(c,d)\n",
    "\n"
   ]
  },
  {
   "cell_type": "code",
   "execution_count": 22,
   "id": "859f55b8-bfc4-45bd-8a9c-ce7e10c8b788",
   "metadata": {},
   "outputs": [
    {
     "data": {
      "text/html": [
       "<div>\n",
       "<style scoped>\n",
       "    .dataframe tbody tr th:only-of-type {\n",
       "        vertical-align: middle;\n",
       "    }\n",
       "\n",
       "    .dataframe tbody tr th {\n",
       "        vertical-align: top;\n",
       "    }\n",
       "\n",
       "    .dataframe thead th {\n",
       "        text-align: right;\n",
       "    }\n",
       "</style>\n",
       "<table border=\"1\" class=\"dataframe\">\n",
       "  <thead>\n",
       "    <tr style=\"text-align: right;\">\n",
       "      <th></th>\n",
       "      <th>영희</th>\n",
       "      <th>철수</th>\n",
       "    </tr>\n",
       "    <tr>\n",
       "      <th>연도</th>\n",
       "      <th></th>\n",
       "      <th></th>\n",
       "    </tr>\n",
       "  </thead>\n",
       "  <tbody>\n",
       "    <tr>\n",
       "      <th>2018</th>\n",
       "      <td>143</td>\n",
       "      <td>165</td>\n",
       "    </tr>\n",
       "    <tr>\n",
       "      <th>2019</th>\n",
       "      <td>150</td>\n",
       "      <td>172</td>\n",
       "    </tr>\n",
       "    <tr>\n",
       "      <th>2020</th>\n",
       "      <td>157</td>\n",
       "      <td>175</td>\n",
       "    </tr>\n",
       "    <tr>\n",
       "      <th>2021</th>\n",
       "      <td>160</td>\n",
       "      <td>180</td>\n",
       "    </tr>\n",
       "  </tbody>\n",
       "</table>\n",
       "</div>"
      ],
      "text/plain": [
       "       영희   철수\n",
       "연도            \n",
       "2018  143  165\n",
       "2019  150  172\n",
       "2020  157  175\n",
       "2021  160  180"
      ]
     },
     "execution_count": 22,
     "metadata": {},
     "output_type": "execute_result"
    }
   ],
   "source": [
    "import pandas as pd \n",
    "\n",
    "# 인덱스를 칼럼 이름으로 설정하는 방법 \n",
    "data = {\n",
    "    '연도': [\"2018\", \"2019\", \"2020\", \"2021\"],\n",
    "    '영희': [143,150,157,160],\n",
    "    '철수': [165,172,175,180]\n",
    "}\n",
    "\n",
    "growth = pd.DataFrame(data)\n",
    "growth.set_index('연도')"
   ]
  }
 ],
 "metadata": {
  "kernelspec": {
   "display_name": "Python 3 (ipykernel)",
   "language": "python",
   "name": "python3"
  },
  "language_info": {
   "codemirror_mode": {
    "name": "ipython",
    "version": 3
   },
   "file_extension": ".py",
   "mimetype": "text/x-python",
   "name": "python",
   "nbconvert_exporter": "python",
   "pygments_lexer": "ipython3",
   "version": "3.12.4"
  }
 },
 "nbformat": 4,
 "nbformat_minor": 5
}
