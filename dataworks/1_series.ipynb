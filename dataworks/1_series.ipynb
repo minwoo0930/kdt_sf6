{
 "cells": [
  {
   "cell_type": "markdown",
   "id": "6ec33d42-1605-4208-bb84-814742910cd8",
   "metadata": {},
   "source": [
    "##### Series 클래스 - 데이터(리스트, 튜플, 딕셔너리)가 순차적으로 나열된 1차원 리스트의 형태를 갖는다. "
   ]
  },
  {
   "cell_type": "code",
   "execution_count": 1,
   "id": "02aa4020-0c32-4e61-b993-58f4e3d33991",
   "metadata": {},
   "outputs": [
    {
     "name": "stdout",
     "output_type": "stream",
     "text": [
      "a    1\n",
      "b    2\n",
      "c    3\n",
      "dtype: int64\n",
      "<class 'pandas.core.series.Series'>\n"
     ]
    }
   ],
   "source": [
    "import pandas as pd \n",
    "\n",
    "dict_data = {'a': 1, 'b': 2, 'c': 3}\n",
    "# 딕셔너리로 시리즈 만들기 : key : value -> key 값이  인덱스가 된다.  \n",
    "# Series(데이터, 인덱스(행의 이름표))\n",
    "sr = pd.Series(dict_data)\n",
    "print(sr)\n",
    "print(type(sr))\n"
   ]
  },
  {
   "cell_type": "code",
   "execution_count": 6,
   "id": "31dadbfc-b226-4529-bd3c-834096d4eb69",
   "metadata": {},
   "outputs": [
    {
     "name": "stdout",
     "output_type": "stream",
     "text": [
      "0    2024-08-22\n",
      "1            10\n",
      "2         apple\n",
      "3          True\n",
      "dtype: object\n",
      "RangeIndex(start=0, stop=4, step=1)\n",
      "['2024-08-22' 10 'apple' True]\n"
     ]
    }
   ],
   "source": [
    "# 리스트로 시리즈 만들기 : 기본 인덱스(0,1,2,3 ..)가 들어간다. \n",
    "list_data = ['2024-08-22', 10, 'apple', True]\n",
    "\n",
    "sr = pd.Series(list_data) \n",
    "print(sr) \n",
    "print(sr.index) # 인덱스 출력 \n",
    "print(sr.values) # 데이터 자료(값) 출력 "
   ]
  },
  {
   "cell_type": "code",
   "execution_count": 14,
   "id": "3f382222-cdc7-4e18-8261-e15ea7bef5dc",
   "metadata": {},
   "outputs": [
    {
     "name": "stdout",
     "output_type": "stream",
     "text": [
      "2018    143\n",
      "2019    150\n",
      "2020    157\n",
      "2021    160\n",
      "Name: Height, dtype: int64\n",
      "150\n",
      "150\n",
      "150\n"
     ]
    }
   ],
   "source": [
    "import pandas as pd \n",
    "height = [143, 150, 157, 160]\n",
    "index=[\"2018\", \"2019\", \"2020\", \"2021\"]\n",
    "# 밸류는 값으로 받아오고 index는 내가 지정한 형태의 시리즈 \n",
    "growth = pd.Series(height, index= index, name = 'Height') \n",
    "print(growth)\n",
    "print(growth['2019'])\n",
    "# Loc[행(문자-> 문자 location)], iloc[(숫자 -> integer location)]\n",
    "print(growth.loc['2019'])\n",
    "print(growth.iloc[1])\n",
    "\n"
   ]
  },
  {
   "cell_type": "code",
   "execution_count": 19,
   "id": "6016f136-9789-4bce-833f-46f820b293fb",
   "metadata": {},
   "outputs": [
    {
     "name": "stdout",
     "output_type": "stream",
     "text": [
      "밀가루     4 cups\n",
      "우유       1 cup\n",
      "계란     2 large\n",
      "참치캔      1 can\n",
      "Name: Dinner, dtype: object\n"
     ]
    }
   ],
   "source": [
    "# 실습1 \n",
    "import pandas as pd \n",
    "food = [\"밀가루\", \"우유\", \"계란\", \"참치캔\"]\n",
    "number =[\"4 cups\", \"1 cup\", \"2 large\", \"1 can\"]\n",
    "# 밸류는 값으로 받아오고 index는 내가 지정한 형태의 시리즈 \n",
    "recipe = pd.Series(number, index = food, name = 'Dinner')\n",
    "\n",
    "print(recipe)"
   ]
  }
 ],
 "metadata": {
  "kernelspec": {
   "display_name": "Python 3 (ipykernel)",
   "language": "python",
   "name": "python3"
  },
  "language_info": {
   "codemirror_mode": {
    "name": "ipython",
    "version": 3
   },
   "file_extension": ".py",
   "mimetype": "text/x-python",
   "name": "python",
   "nbconvert_exporter": "python",
   "pygments_lexer": "ipython3",
   "version": "3.12.4"
  }
 },
 "nbformat": 4,
 "nbformat_minor": 5
}
