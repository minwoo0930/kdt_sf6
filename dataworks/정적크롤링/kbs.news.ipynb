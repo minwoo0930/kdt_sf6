{
 "cells": [
  {
   "cell_type": "code",
   "execution_count": 19,
   "metadata": {},
   "outputs": [
    {
     "name": "stdout",
     "output_type": "stream",
     "text": [
      "<h4 class=\"headline-title\">백중사리에 인천 소래포구 침수 우려…“내일 새벽 최고 수위”</h4>\n",
      "밀물 수위가 가장 높아지는 ‘백중사리 대조기’를 맞아 인천 저지대 해안가에서 침수 피해 우려가 나오고 있습니다. 국립해양조사원은 올 한 해 밀물 수위가 가장 높아지는 백중사리 대조기 기간이 어제(20일)부터 23일까지 나흘간 이어질 거라고 밝혔습니다. 백중사리 대조기는 백중인 음력 7월 15일을 사나흘 전후해 밀물과 썰물에 따른 바닷물 높이가 가장 크게 벌어지는 기간입니다  오늘(21일) 오전 5시 51분쯤 인천의 조위는 960cm로 경계 단계까지 높아졌습니다. 이후 점차 조위가 낮아졌지만, 오늘 오후 6시 8분쯤에는 관심 단계인 900cm로, 내일(22일) 오전 6시 29분쯤에는 최고수위인 967cm까지 다시 상승할 거로 관측됩니다. 해양수산부는 저지대 해안가인 인천시 남동구 소래포구와 중구 인천수협 일대에서 침수 피해가 발생할 수 있다고 보고 주의를 당부했습니다. 인천 남동구 관계자는 “침수 피해 우려가 있어 내일 새벽에는 소래포구 해안가 주변에 접근하지 못하도록 통제 조치할 예정”이라고 말했습니다.[사진 출처 : 연합뉴스]\n"
     ]
    }
   ],
   "source": [
    "import requests\n",
    "from bs4 import BeautifulSoup\n",
    "\n",
    "url = \"https://news.kbs.co.kr/news/pc/view/view.do?ncd=8040239\"\n",
    "\n",
    "response = requests.get(url)\n",
    "\n",
    "# print(response)\n",
    "# print(response.text)\n",
    "\n",
    "soup = BeautifulSoup(response.text, \"html.parser\")\n",
    "# print(soup)\n",
    "\n",
    "# 헤드라인 뉴스 제목 \n",
    "#title = soup.find('h4', attrs={'class': 'headline-title'})\n",
    "title = soup.select(\"h4.headline-title\") #태그이름.클래스이름 \n",
    "print(title.text)\n",
    "print(title[0].text)\n",
    "\n",
    "# 기사 본문 내용 크롤링 \n",
    "#body = soup.find('div',class_ =\"detail-body font-size\")\n",
    "body = soup.select_one(\"div.detail-body\")\n",
    "print(body.text.strip())\n"
   ]
  },
  {
   "cell_type": "code",
   "execution_count": 20,
   "metadata": {},
   "outputs": [
    {
     "ename": "NameError",
     "evalue": "name 'all_li' is not defined",
     "output_type": "error",
     "traceback": [
      "\u001b[1;31m---------------------------------------------------------------------------\u001b[0m",
      "\u001b[1;31mNameError\u001b[0m                                 Traceback (most recent call last)",
      "Cell \u001b[1;32mIn[20], line 21\u001b[0m\n\u001b[0;32m     11\u001b[0m market1 \u001b[38;5;241m=\u001b[39m html\u001b[38;5;241m.\u001b[39mselect_one(\u001b[38;5;124m\"\u001b[39m\u001b[38;5;124mdiv.market1\u001b[39m\u001b[38;5;124m\"\u001b[39m)\n\u001b[0;32m     12\u001b[0m \u001b[38;5;66;03m# 통화\u001b[39;00m\n\u001b[0;32m     13\u001b[0m \u001b[38;5;66;03m# exchange = market1.select_one('span.blind')\u001b[39;00m\n\u001b[0;32m     14\u001b[0m \u001b[38;5;66;03m# # print(exchange.text)\u001b[39;00m\n\u001b[1;32m   (...)\u001b[0m\n\u001b[0;32m     19\u001b[0m \u001b[38;5;66;03m# all_li = market1.select(\"ul.data_lst > li\")\u001b[39;00m\n\u001b[0;32m     20\u001b[0m \u001b[38;5;66;03m# # print(all_li)\u001b[39;00m\n\u001b[1;32m---> 21\u001b[0m \u001b[38;5;28;01mfor\u001b[39;00m li \u001b[38;5;129;01min\u001b[39;00m all_li:\n\u001b[0;32m     22\u001b[0m   exchange \u001b[38;5;241m=\u001b[39m li\u001b[38;5;241m.\u001b[39mselect_one(\u001b[38;5;124m'\u001b[39m\u001b[38;5;124mspan.blind\u001b[39m\u001b[38;5;124m'\u001b[39m)\n\u001b[0;32m     23\u001b[0m   value \u001b[38;5;241m=\u001b[39m li\u001b[38;5;241m.\u001b[39mselect_one(\u001b[38;5;124m'\u001b[39m\u001b[38;5;124mspan.value\u001b[39m\u001b[38;5;124m'\u001b[39m)\n",
      "\u001b[1;31mNameError\u001b[0m: name 'all_li' is not defined"
     ]
    }
   ],
   "source": []
  }
 ],
 "metadata": {
  "kernelspec": {
   "display_name": "base",
   "language": "python",
   "name": "python3"
  },
  "language_info": {
   "codemirror_mode": {
    "name": "ipython",
    "version": 3
   },
   "file_extension": ".py",
   "mimetype": "text/x-python",
   "name": "python",
   "nbconvert_exporter": "python",
   "pygments_lexer": "ipython3",
   "version": "3.12.4"
  }
 },
 "nbformat": 4,
 "nbformat_minor": 2
}
