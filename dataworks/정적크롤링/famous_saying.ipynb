{
 "cells": [
  {
   "cell_type": "code",
   "execution_count": 14,
   "metadata": {},
   "outputs": [
    {
     "ename": "SyntaxError",
     "evalue": "invalid syntax (775907259.py, line 27)",
     "output_type": "error",
     "traceback": [
      "\u001b[1;36m  Cell \u001b[1;32mIn[14], line 27\u001b[1;36m\u001b[0m\n\u001b[1;33m    말한 사람 링크\u001b[0m\n\u001b[1;37m       ^\u001b[0m\n\u001b[1;31mSyntaxError\u001b[0m\u001b[1;31m:\u001b[0m invalid syntax\n"
     ]
    }
   ],
   "source": [
    "import requests as req\n",
    "from bs4 import BeautifulSoup\n",
    "url = \"https://quotes.toscrape.com/\"\n",
    "res = req.get(url)\n",
    "html = BeautifulSoup(res.text, 'html.parser')\n",
    "# print(html)\n",
    "#명언(find_all)\n",
    "quote_div = html.find_all('div', class_='quote')\n",
    "# print(quote_div)\n",
    "quote_span = html.find_all('span', class_='text')\n",
    "# print(quote_span)\n",
    "# print(len(quote_span))\n",
    "quote_text = html.select('div.quote > span.text')\n",
    "# print(quote_text)\n",
    "# print(quote_text[0].text)\n",
    "for quote in quote_text:\n",
    "    print(quote.text)\n",
    "#리스트 내포\n",
    "[i.find_all('span', class_='text')[0].text for i in quote_div]\n",
    "\n",
    "# 명언 말한 사람 \n",
    "quote_author = html.select('div.quote > span > small.author')\n",
    "print(quote_author)\n",
    "\n",
    "[i.text for i in quote_author]\n",
    "\n",
    "# 말한 사람 링크 \n",
    "# quote_link = html.select('div.quote > span > a')\n",
    "# print(quote_link)\n",
    "# [i['href'] for i in quote_link]"
   ]
  },
  {
   "cell_type": "code",
   "execution_count": null,
   "metadata": {},
   "outputs": [],
   "source": []
  }
 ],
 "metadata": {
  "kernelspec": {
   "display_name": "base",
   "language": "python",
   "name": "python3"
  },
  "language_info": {
   "codemirror_mode": {
    "name": "ipython",
    "version": 3
   },
   "file_extension": ".py",
   "mimetype": "text/x-python",
   "name": "python",
   "nbconvert_exporter": "python",
   "pygments_lexer": "ipython3",
   "version": "3.12.4"
  }
 },
 "nbformat": 4,
 "nbformat_minor": 2
}
