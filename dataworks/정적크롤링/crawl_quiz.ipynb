{
 "cells": [
  {
   "cell_type": "code",
   "execution_count": 9,
   "metadata": {},
   "outputs": [],
   "source": [
    "import requests \n",
    "from bs4 import BeautifulSoup\n",
    "\n",
    "url = \"https://www.museum.go.kr/site/main/home\"\n",
    "response = requests.get(url)\n",
    "#print(response.text)\n",
    "\n",
    "soup = BeautifulSoup(response.text, 'html.parser')\n",
    "#print(soup)\n",
    "\n",
    "first_li = soup.select(\"div.info-txt.info-time > li\")\n",
    "\n",
    "for li in first_li: \n",
    "    print(li.text)\n",
    "\n",
    "\n",
    "\n"
   ]
  },
  {
   "cell_type": "markdown",
   "metadata": {},
   "source": [
    "### 실습 2. 전자신문 "
   ]
  },
  {
   "cell_type": "code",
   "execution_count": 29,
   "metadata": {},
   "outputs": [
    {
     "name": "stdout",
     "output_type": "stream",
     "text": [
      "\n",
      "[단독]'카카오 기프티콘'도 티메프 사태 물렸다…본죽·할리스 등 '먹통'\n",
      "\n",
      "발행일 : 2024-08-20 10:17\n",
      "\n",
      "'카카오톡 선물하기'를 통해 주고받는 기프티콘(모바일 상품권)도 티몬·위메프 사태 영향권에 들어섰다. '할리스', '본죽'을 비롯해 특정 프랜차이즈 브랜드 상품을 유통하는 콘사가 이미 판매한 기프티콘마저 사용불가 처리해 파장이 확산되고 있다. 카카오 선물하기에서 피해 사례가 드러난 것은 이번이 첫 사례다.\n",
      "\n",
      "20일 업계에 따르면 콘사 엠트웰브가 카카오 선물하기에 공급한 모바일 상품권 대다수가 '현재 시스템 점검 중으로 사용이 불가하다'는 메시지가 표시되고 있다. 기프티콘 구매는 물론, 오프라인 매장 등에서 기프티콘 사용과 취소도 제한된 상태다.\n",
      "\n",
      "시스템 점검으로 인한 사용 제한기한은 오는 23일로 공지돼 있으나, 서비스 재개 여부가 불투명한 상태다.\n",
      "\n",
      "콘사 엠트웰브는 기프티콘 브랜드 '기프트팝'을 통해 카카오 측에 모바일 상품권을 공급하고 있다. 최근 티몬·위메프 정산 대금 미지급 문제로 일시적으로 서비스 자체를 중단하겠다는 공지를 띄웠다. 판매 중이던 기프티콘 상품도 홈페이지에서 전부 내렸다.\n",
      "\n",
      "\n",
      "이 회사는 고객센터 운영도 중단한 상태다. '서비스 정상화가 될때까지 연장 및 환불 접수가 어렵다'고 공지했다. 기프티콘 사용 중단에 대한 항의나 문의를 받지 않겠다는 것이다. 홈페이지에 표기된 문의전화도 수신 불가 상태며, 일대일 문의로 이어지는 카카오톡 채널 링크 등도 삭제된 상태다.\n",
      "\n",
      "카카오톡 선물하기의 경우 이번 티몬·위메프 사태와 비교적 무관한 것으로 여겨졌으나, 실제로는 그렇지 않다. 선물하기에 입점해 있는 기프티콘 업체 상당수는 티몬과 위메프에도 상품을 공급하는 콘사가 상당수이기 때문이다. 이들이 티몬에서 정산대금을 받지 못해 유동성에 문제가 생기자 이미 카카오에서 판매한 기프티콘 운영에도 문제가 불거질 수 있다.\n",
      "\n",
      "다만 해당 사례의 경우 기프티콘 발행 주체가 '카카오', 교환권 공급자가 '엠트웰브'로 표기돼 있어, 티몬 등에서 판매된 사례와 달리 환불 책임을 카카오가 지게 된다. 상품 설명에도 지급보증 및 피해보상보험 계약 없이 '카카오의 신용으로 발행한다'고 명시하고 있다.\n",
      "\n",
      "이와 관련 카카오 관계자는 “선물하기에서 구매한 교환권은 브랜드사 사정으로 사용이 어려울 경우 100% 현금 환불을 받을 수 있다”고 설명했다.\n",
      "\n",
      "이형두 기자 dudu@etnews.com\n",
      "\n",
      "[SINGLEX Live] LG의 전문가들과 함께 하는 <DX에서 AX로의 도약 : 구매, 제조/설비, R&D/품질>\n",
      "구조해석 데이터와 BIM 연계성 향상을 위한 무료 Revit Add-in 웨비나\n",
      "에코프로비엠, 고체 전해질 양산 라인 만든다\n",
      "'가시화되는 전고체 체인'…이수스페셜티케미컬, 원재료 황화리튬 시생산\n",
      "제네시스 GV60, 4년 만에 '페이스리프트'…내년 2월 양산\n",
      "삼성 패키징 조직개편 첨단기술 인력 모았다\n",
      "한국판 ASML 만든다…'슈퍼을' 소부장 육성 본격 추진\n",
      "[올쇼TV] 금융권 사례로 알아보는 AI Automation 업무혁신 8월 27일 생방송\n",
      "AI로 비즈니스 확장하기 : IBM watsonx.ai 플랫폼과 전략 8월 27일 생방송\n",
      "구조해석 데이터와 BIM 연계성 향상을 위한 무료 Revit Add-in 웨비나 8월 22일 생방송\n",
      "[올쇼TV] “LG의 전문가들과 함께 하는 DX에서 AX로의 도약” 무료 웨비나 8월 21일, 22일 생방송\n",
      "Copyright © Electronic Times Internet. All Rights Reserved. \n"
     ]
    }
   ],
   "source": [
    "import requests \n",
    "from bs4 import BeautifulSoup\n",
    "\n",
    "url = \"https://www.etnews.com/20240820000076\"\n",
    "response = requests.get(url)\n",
    "#print(response.text)\n",
    "\n",
    "soup = BeautifulSoup(response.text, 'html.parser')\n",
    "#print(soup)\n",
    "\n",
    "# 헤드라인 뉴스 제목 \n",
    "title = soup.select_one(\"div.article_title\")\n",
    "# title = soup.select(\"h4.headline-title\") #태그이름.클래스이름 \n",
    "print(title.text)\n",
    "\n",
    "#  기사 발행일 크롤링 \n",
    "date = soup.find('time',class_ =\"date\")\n",
    "print(date.text)\n",
    "\n",
    "# 본문 내용 크롤링 \n",
    "body = soup.find('div',class_ = \"article_txt\")\n",
    "\n",
    "body_p = soup.find_all('p')\n",
    "\n",
    "for p in body_p: \n",
    "    print(p.text)\n"
   ]
  },
  {
   "cell_type": "markdown",
   "metadata": {},
   "source": [
    "### 실습3 환율정보 크롤링하기"
   ]
  },
  {
   "cell_type": "code",
   "execution_count": 79,
   "metadata": {},
   "outputs": [
    {
     "name": "stdout",
     "output_type": "stream",
     "text": [
      "USD 1,339.40\n",
      "JPY(100엔) 917.24\n",
      "EUR 1,489.41\n",
      "CNY 187.84\n"
     ]
    }
   ],
   "source": [
    "import requests \n",
    "from bs4 import BeautifulSoup\n",
    "\n",
    "url = \"https://finance.naver.com/marketindex/\"\n",
    "response = requests.get(url)\n",
    "#print(response.text)\n",
    "\n",
    "html = BeautifulSoup(response.text, 'html.parser')\n",
    "#print(soup)\n",
    "\n",
    "market1 = html.select_one(\"div.market1\")\n",
    "# 통화\n",
    "# exchange = market1.select_one('span.blind')\n",
    "# # print(exchange.text)\n",
    "# # 환율 지수\n",
    "# value = market1.select_one('span.value')\n",
    "# # print(value.text)\n",
    "# # 모든 환율 검색\n",
    "# all_li = market1.select(\"ul.data_lst > li\")\n",
    "# # print(all_li)\n",
    "for li in all_li:\n",
    "  exchange = li.select_one('span.blind')\n",
    "  value = li.select_one('span.value')\n",
    "  # text 대신 string도 가능함 - split(구분기호)은 리스트로 반환\n",
    "  print(exchange.string.split(\" \")[1], value.string)\n",
    "\n"
   ]
  },
  {
   "cell_type": "code",
   "execution_count": null,
   "metadata": {},
   "outputs": [],
   "source": []
  }
 ],
 "metadata": {
  "kernelspec": {
   "display_name": "base",
   "language": "python",
   "name": "python3"
  },
  "language_info": {
   "codemirror_mode": {
    "name": "ipython",
    "version": 3
   },
   "file_extension": ".py",
   "mimetype": "text/x-python",
   "name": "python",
   "nbconvert_exporter": "python",
   "pygments_lexer": "ipython3",
   "version": "3.12.4"
  }
 },
 "nbformat": 4,
 "nbformat_minor": 2
}
