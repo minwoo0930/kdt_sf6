{
 "cells": [
  {
   "cell_type": "code",
   "execution_count": 1,
   "metadata": {},
   "outputs": [
    {
     "name": "stdout",
     "output_type": "stream",
     "text": [
      "hello\n"
     ]
    }
   ],
   "source": [
    "print(\"hello\")"
   ]
  },
  {
   "cell_type": "markdown",
   "metadata": {},
   "source": [
    "### 변수의 선언과 활용 "
   ]
  },
  {
   "cell_type": "markdown",
   "metadata": {},
   "source": [
    "### 자료형과 연산"
   ]
  },
  {
   "cell_type": "code",
   "execution_count": 2,
   "metadata": {},
   "outputs": [
    {
     "name": "stdout",
     "output_type": "stream",
     "text": [
      "apple\n"
     ]
    }
   ],
   "source": [
    "msg = \"행운을 빌어요\"\n",
    "msg\n",
    "\n",
    "cart = \"apple\"\n",
    "print(cart) \n",
    "\n",
    "\n"
   ]
  },
  {
   "cell_type": "code",
   "execution_count": 3,
   "metadata": {},
   "outputs": [
    {
     "name": "stdout",
     "output_type": "stream",
     "text": [
      "True\n",
      "False\n",
      "쌀\n",
      "커피\n",
      "두부\n",
      "콩나물\n"
     ]
    }
   ],
   "source": [
    "carts = ['쌀', '커피', '두부', '콩나물']\n",
    "print('커피' in carts)\n",
    "print('마늘' in carts)\n",
    "for cart in  carts: \n",
    "    print(cart)"
   ]
  },
  {
   "cell_type": "markdown",
   "metadata": {},
   "source": [
    "### 모듈 사용하기"
   ]
  },
  {
   "cell_type": "code",
   "execution_count": 4,
   "metadata": {},
   "outputs": [
    {
     "name": "stdout",
     "output_type": "stream",
     "text": [
      "13\n",
      "12\n",
      "0.18915146046989084\n",
      "7\n",
      "2\n",
      "5\n",
      "1\n",
      "2\n",
      "6\n",
      "1\n",
      "1\n",
      "1\n",
      "2\n",
      "1\n"
     ]
    }
   ],
   "source": [
    "import math\n",
    "import random \n",
    "\n",
    "v1 = math.ceil(12.56)\n",
    "print(v1)\n",
    "\n",
    "v2 = math.floor(12.56)\n",
    "print(v2)\n",
    "\n",
    "v3 = random.random()\n",
    "print(v3)\n",
    "\n",
    "v4 = random.randint(1, 10)\n",
    "print(v4)\n",
    "\n",
    "# 주사위 10번 던지기 \n",
    "for i in range(10): \n",
    "    dice = random.randint(1,6)\n",
    "    print(dice)\n",
    "\n",
    "\n",
    "\n"
   ]
  },
  {
   "cell_type": "code",
   "execution_count": 6,
   "metadata": {},
   "outputs": [
    {
     "name": "stdout",
     "output_type": "stream",
     "text": [
      "5\n"
     ]
    }
   ],
   "source": [
    "# 절대값을 함수로 구현 \n",
    "def myabs():\n",
    "    if x < 0: \n",
    "        return -x \n",
    "    else: \n",
    "        return x \n",
    "    \n",
    "myabs(-5)\n",
    "\n",
    "\n",
    "\n",
    "# print(abs(-5))\n",
    "# print(abs(5))\n",
    "\n"
   ]
  }
 ],
 "metadata": {
  "kernelspec": {
   "display_name": "Python 3",
   "language": "python",
   "name": "python3"
  },
  "language_info": {
   "codemirror_mode": {
    "name": "ipython",
    "version": 3
   },
   "file_extension": ".py",
   "mimetype": "text/x-python",
   "name": "python",
   "nbconvert_exporter": "python",
   "pygments_lexer": "ipython3",
   "version": "3.12.4"
  }
 },
 "nbformat": 4,
 "nbformat_minor": 2
}
